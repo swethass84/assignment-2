{
 "cells": [
  {
   "cell_type": "markdown",
   "id": "3b7dfa6c",
   "metadata": {},
   "source": [
    "# Basic stats - Level 2 - Set 1 questions and answers\n",
    "Question No. 1"
   ]
  },
  {
   "cell_type": "code",
   "execution_count": 1,
   "id": "15e929b5",
   "metadata": {},
   "outputs": [],
   "source": [
    "import pandas as pd\n",
    "import numpy as np\n",
    "import matplotlib.pyplot as plt"
   ]
  },
  {
   "cell_type": "code",
   "execution_count": 2,
   "id": "24f3c3a3",
   "metadata": {},
   "outputs": [
    {
     "data": {
      "text/plain": [
       "array([24.23, 25.53, 25.41, 24.14, 29.62, 28.25, 25.81, 24.39, 40.26,\n",
       "       32.95, 91.36, 25.99, 39.42, 26.71, 35.  ])"
      ]
     },
     "execution_count": 2,
     "metadata": {},
     "output_type": "execute_result"
    }
   ],
   "source": [
    "X=np.array([24.23,25.53,25.41,24.14,29.62,28.25,25.81,24.39,40.26,32.95,91.36,25.99,39.42,26.71,35.00])\n",
    "X"
   ]
  },
  {
   "cell_type": "code",
   "execution_count": 8,
   "id": "13d732d7",
   "metadata": {},
   "outputs": [
    {
     "data": {
      "text/plain": [
       "33.271"
      ]
     },
     "execution_count": 8,
     "metadata": {},
     "output_type": "execute_result"
    }
   ],
   "source": [
    "round(X.mean(),3)"
   ]
  },
  {
   "cell_type": "code",
   "execution_count": 9,
   "id": "30a9c06f",
   "metadata": {},
   "outputs": [
    {
     "data": {
      "text/plain": [
       "16.371"
      ]
     },
     "execution_count": 9,
     "metadata": {},
     "output_type": "execute_result"
    }
   ],
   "source": [
    "round(X.std(),3)"
   ]
  },
  {
   "cell_type": "code",
   "execution_count": 10,
   "id": "9170f176",
   "metadata": {},
   "outputs": [
    {
     "data": {
      "text/plain": [
       "268.004"
      ]
     },
     "execution_count": 10,
     "metadata": {},
     "output_type": "execute_result"
    }
   ],
   "source": [
    "round(X.var(),3)"
   ]
  },
  {
   "cell_type": "code",
   "execution_count": 6,
   "id": "40117fcb",
   "metadata": {},
   "outputs": [
    {
     "data": {
      "text/plain": [
       "Text(0, 0.5, 'Measure X')"
      ]
     },
     "execution_count": 6,
     "metadata": {},
     "output_type": "execute_result"
    },
    {
     "data": {
      "image/png": "[encoded data removed]",
      "text/plain": [
       "<Figure size 432x288 with 1 Axes>"
      ]
     },
     "metadata": {
      "needs_background": "light"
     },
     "output_type": "display_data"
    }
   ],
   "source": [
    "plt.boxplot(X,vert=False)\n",
    "plt.title(\"Boxplot\")\n",
    "plt.ylabel(\"Measure X\")"
   ]
  },
  {
   "cell_type": "code",
   "execution_count": 7,
   "id": "c40f08a6",
   "metadata": {},
   "outputs": [
    {
     "data": {
      "text/plain": [
       "(array([10.,  2.,  2.,  0.,  0.,  0.,  0.,  0.,  0.,  1.]),\n",
       " array([24.14 , 30.862, 37.584, 44.306, 51.028, 57.75 , 64.472, 71.194,\n",
       "        77.916, 84.638, 91.36 ]),\n",
       " <BarContainer object of 10 artists>)"
      ]
     },
     "execution_count": 7,
     "metadata": {},
     "output_type": "execute_result"
    },
    {
     "data": {
      "image/png": "[encoded data removed]",
      "text/plain": [
       "<Figure size 432x288 with 1 Axes>"
      ]
     },
     "metadata": {
      "needs_background": "light"
     },
     "output_type": "display_data"
    }
   ],
   "source": [
    "plt.hist(X)"
   ]
  },
  {
   "cell_type": "code",
   "execution_count": null,
   "id": "c93a9ebf",
   "metadata": {},
   "outputs": [],
   "source": []
  },
  {
   "cell_type": "markdown",
   "id": "16ba71f0",
   "metadata": {},
   "source": [
    "# Basic stats - Level 2 - Set 2 questions and answers\n",
    "Question No. 2\n",
    "\n",
    "The current age (in years) of 400 clerical employees at an insurance claims processing center is normally distributed with mean  = 38 and Standard deviation  =6. For each statement below, please specify True/False. If false, briefly explain why.\n",
    "A.\tMore employees at the processing center are older than 44 than between 38 and 44.\n",
    "B.\tA training program for employees under the age of 30 at the center would be expected to attract about 36 employees."
   ]
  },
  {
   "cell_type": "code",
   "execution_count": 1,
   "id": "46ba9499",
   "metadata": {},
   "outputs": [],
   "source": [
    "from scipy import stats\n",
    "from scipy.stats import norm"
   ]
  },
  {
   "cell_type": "code",
   "execution_count": 2,
   "id": "2aeec81e",
   "metadata": {},
   "outputs": [
    {
     "data": {
      "text/plain": [
       "0.15865525393145707"
      ]
     },
     "execution_count": 2,
     "metadata": {},
     "output_type": "execute_result"
    }
   ],
   "source": [
    "# A. More employees at the processing center are older than 44 than between 38 and 44.\n",
    "\n",
    "# p(X>44); Employees older than 44 yrs of age\n",
    "1-stats.norm.cdf(44,loc=38,scale=6)"
   ]
  },
  {
   "cell_type": "code",
   "execution_count": 3,
   "id": "25a92b3d",
   "metadata": {},
   "outputs": [
    {
     "data": {
      "text/plain": [
       "0.3413447460685429"
      ]
     },
     "execution_count": 3,
     "metadata": {},
     "output_type": "execute_result"
    }
   ],
   "source": [
    "# p(38<X<44); Employees between 38 to 44 yrs of age\n",
    "stats.norm.cdf(44,38,6)-stats.norm.cdf(38,38,6)"
   ]
  },
  {
   "cell_type": "code",
   "execution_count": 4,
   "id": "4afa0e91",
   "metadata": {},
   "outputs": [
    {
     "data": {
      "text/plain": [
       "0.09121121972586788"
      ]
     },
     "execution_count": 4,
     "metadata": {},
     "output_type": "execute_result"
    }
   ],
   "source": [
    "# B. A training program for employees under the age of 30 at the center \n",
    "# would be expected to attract about 36 employees.\n",
    "\n",
    "# P(X<30); Employees under 30 yrs of age\n",
    "stats.norm.cdf(30,38,6)"
   ]
  },
  {
   "cell_type": "code",
   "execution_count": 5,
   "id": "fa09f35e",
   "metadata": {},
   "outputs": [
    {
     "data": {
      "text/plain": [
       "36.484487890347154"
      ]
     },
     "execution_count": 5,
     "metadata": {},
     "output_type": "execute_result"
    }
   ],
   "source": [
    "# No. of employees attending training program from 400 nos. is N*P(X<30)\n",
    "400*stats.norm.cdf(30,38,6)"
   ]
  },
  {
   "cell_type": "markdown",
   "id": "c68cfe41",
   "metadata": {},
   "source": [
    "STATEMENT A IS FALSE\n",
    "STATEMENT B IS TRUE"
   ]
  },
  {
   "cell_type": "code",
   "execution_count": null,
   "id": "79207ef8",
   "metadata": {},
   "outputs": [],
   "source": []
  },
  {
   "cell_type": "markdown",
   "id": "38112dcb",
   "metadata": {},
   "source": [
    "Question No. 3\n",
    "If X1 ~ N(μ, σ2) and X2 ~ N(μ, σ2) are iid normal random variables, then what is the difference between 2 X1 and X1 + X2? Discuss both their distributions and parameters.       "
   ]
  },
  {
   "cell_type": "code",
   "execution_count": 14,
   "id": "6b06f5d3",
   "metadata": {},
   "outputs": [],
   "source": [
    "#here X1 = X2 and 2X1 is newX1\n",
    "X1= np.array([1,2,3])"
   ]
  },
  {
   "cell_type": "code",
   "execution_count": 15,
   "id": "7bd6342a",
   "metadata": {},
   "outputs": [
    {
     "data": {
      "text/plain": [
       "2.0"
      ]
     },
     "execution_count": 15,
     "metadata": {},
     "output_type": "execute_result"
    }
   ],
   "source": [
    "X1.mean()"
   ]
  },
  {
   "cell_type": "code",
   "execution_count": 16,
   "id": "5b5892c4",
   "metadata": {},
   "outputs": [
    {
     "data": {
      "text/plain": [
       "0.816496580927726"
      ]
     },
     "execution_count": 16,
     "metadata": {},
     "output_type": "execute_result"
    }
   ],
   "source": [
    "X1.std()"
   ]
  },
  {
   "cell_type": "code",
   "execution_count": 17,
   "id": "b3ba3423",
   "metadata": {},
   "outputs": [
    {
     "data": {
      "text/plain": [
       "0.6666666666666666"
      ]
     },
     "execution_count": 17,
     "metadata": {},
     "output_type": "execute_result"
    }
   ],
   "source": [
    "X1.std()**2"
   ]
  },
  {
   "cell_type": "code",
   "execution_count": 18,
   "id": "361e9666",
   "metadata": {},
   "outputs": [],
   "source": [
    "newX1=2*X1"
   ]
  },
  {
   "cell_type": "code",
   "execution_count": 19,
   "id": "ed2c1b48",
   "metadata": {},
   "outputs": [
    {
     "data": {
      "text/plain": [
       "1.632993161855452"
      ]
     },
     "execution_count": 19,
     "metadata": {},
     "output_type": "execute_result"
    }
   ],
   "source": [
    "newX1.std()"
   ]
  },
  {
   "cell_type": "code",
   "execution_count": 20,
   "id": "8fcb04dd",
   "metadata": {},
   "outputs": [
    {
     "data": {
      "text/plain": [
       "2.0"
      ]
     },
     "execution_count": 20,
     "metadata": {},
     "output_type": "execute_result"
    }
   ],
   "source": [
    "newX1.std()/X1.std()"
   ]
  },
  {
   "cell_type": "code",
   "execution_count": 21,
   "id": "4d4f609b",
   "metadata": {},
   "outputs": [
    {
     "data": {
      "text/plain": [
       "2.0"
      ]
     },
     "execution_count": 21,
     "metadata": {},
     "output_type": "execute_result"
    }
   ],
   "source": [
    "newX1.mean()/X1.mean()"
   ]
  },
  {
   "cell_type": "code",
   "execution_count": 22,
   "id": "5359ca4f",
   "metadata": {},
   "outputs": [
    {
     "data": {
      "text/plain": [
       "4.0"
      ]
     },
     "execution_count": 22,
     "metadata": {},
     "output_type": "execute_result"
    }
   ],
   "source": [
    "newX1.std()**2/X1.std()**2"
   ]
  },
  {
   "cell_type": "code",
   "execution_count": 24,
   "id": "c87c52ea",
   "metadata": {},
   "outputs": [],
   "source": [
    "import matplotlib.pyplot as plt\n",
    "import seaborn as sn"
   ]
  },
  {
   "cell_type": "code",
   "execution_count": 25,
   "id": "b673b5b3",
   "metadata": {},
   "outputs": [
    {
     "name": "stderr",
     "output_type": "stream",
     "text": [
      "C:\\Users\\Swetha\\anaconda3\\lib\\site-packages\\seaborn\\distributions.py:2619: FutureWarning: `distplot` is a deprecated function and will be removed in a future version. Please adapt your code to use either `displot` (a figure-level function with similar flexibility) or `histplot` (an axes-level function for histograms).\n",
      "  warnings.warn(msg, FutureWarning)\n"
     ]
    },
    {
     "data": {
      "text/plain": [
       "<AxesSubplot:ylabel='Density'>"
      ]
     },
     "execution_count": 25,
     "metadata": {},
     "output_type": "execute_result"
    },
    {
     "data": {
      "image/png": "[encoded data removed]",
      "text/plain": [
       "<Figure size 432x288 with 1 Axes>"
      ]
     },
     "metadata": {
      "needs_background": "light"
     },
     "output_type": "display_data"
    }
   ],
   "source": [
    "sn.distplot(X1)"
   ]
  },
  {
   "cell_type": "code",
   "execution_count": 26,
   "id": "9d0b99f9",
   "metadata": {},
   "outputs": [
    {
     "name": "stderr",
     "output_type": "stream",
     "text": [
      "C:\\Users\\Swetha\\anaconda3\\lib\\site-packages\\seaborn\\distributions.py:2619: FutureWarning: `distplot` is a deprecated function and will be removed in a future version. Please adapt your code to use either `displot` (a figure-level function with similar flexibility) or `histplot` (an axes-level function for histograms).\n",
      "  warnings.warn(msg, FutureWarning)\n"
     ]
    },
    {
     "data": {
      "text/plain": [
       "<AxesSubplot:ylabel='Density'>"
      ]
     },
     "execution_count": 26,
     "metadata": {},
     "output_type": "execute_result"
    },
    {
     "data": {
      "image/png": "[encoded data removed]",
      "text/plain": [
       "<Figure size 432x288 with 1 Axes>"
      ]
     },
     "metadata": {
      "needs_background": "light"
     },
     "output_type": "display_data"
    }
   ],
   "source": [
    "sn.distplot(newX1)"
   ]
  },
  {
   "cell_type": "code",
   "execution_count": 28,
   "id": "35bde6a0",
   "metadata": {},
   "outputs": [],
   "source": [
    "#Again here X1 = X2 , so i am considering X1+X2 as newX2\n",
    "X2= np.array([1,2,3])"
   ]
  },
  {
   "cell_type": "code",
   "execution_count": 29,
   "id": "6e91812b",
   "metadata": {},
   "outputs": [
    {
     "data": {
      "text/plain": [
       "2.0"
      ]
     },
     "execution_count": 29,
     "metadata": {},
     "output_type": "execute_result"
    }
   ],
   "source": [
    "X2.mean()"
   ]
  },
  {
   "cell_type": "code",
   "execution_count": 30,
   "id": "08588f69",
   "metadata": {},
   "outputs": [
    {
     "data": {
      "text/plain": [
       "0.816496580927726"
      ]
     },
     "execution_count": 30,
     "metadata": {},
     "output_type": "execute_result"
    }
   ],
   "source": [
    "X2.std()"
   ]
  },
  {
   "cell_type": "markdown",
   "id": "3502ef60",
   "metadata": {},
   "source": [
    "Question No. 4\n",
    "Let X ~ N(100, 202). Find two values, a and b, symmetric about the mean, \n",
    "such that the probability of the random variable taking a value between them is 0.99. "
   ]
  },
  {
   "cell_type": "code",
   "execution_count": 1,
   "id": "cf373bf3",
   "metadata": {},
   "outputs": [],
   "source": [
    "from scipy import stats\n",
    "from scipy.stats import norm"
   ]
  },
  {
   "cell_type": "code",
   "execution_count": 2,
   "id": "a47616ec",
   "metadata": {},
   "outputs": [
    {
     "data": {
      "text/plain": [
       "(48.48341392902199, 151.516586070978)"
      ]
     },
     "execution_count": 2,
     "metadata": {},
     "output_type": "execute_result"
    }
   ],
   "source": [
    "stats.norm.interval(0.99,100,20)"
   ]
  },
  {
   "cell_type": "code",
   "execution_count": 3,
   "id": "edeb8911",
   "metadata": {},
   "outputs": [
    {
     "data": {
      "text/plain": [
       "-2.575829303548901"
      ]
     },
     "execution_count": 3,
     "metadata": {},
     "output_type": "execute_result"
    }
   ],
   "source": [
    "stats.norm.ppf(0.005)"
   ]
  },
  {
   "cell_type": "code",
   "execution_count": 6,
   "id": "5a6aed43",
   "metadata": {},
   "outputs": [
    {
     "data": {
      "text/plain": [
       "2.5758293035489004"
      ]
     },
     "execution_count": 6,
     "metadata": {},
     "output_type": "execute_result"
    }
   ],
   "source": [
    "stats.norm.ppf(0.995)"
   ]
  },
  {
   "cell_type": "markdown",
   "id": "9ea61e27",
   "metadata": {},
   "source": [
    "Question No. 5\n",
    "Consider a company that has two different divisions. The annual profits from the two divisions are independent and have distributions Profit1 ~ N(5, 3^2) and Profit2 ~ N(7, 4^2) respectively. Both the profits are in $ Million. Answer the following questions about the total profit of the company in Rupees. Assume that $1 = Rs. 45\n",
    "A.\tSpecify a Rupee range (centered on the mean) such that it contains 95% probability for the annual profit of the company.\n",
    "B.\tSpecify the 5th percentile of profit (in Rupees) for the company\n",
    "C.\tWhich of the two divisions has a larger probability of making a loss in a given year?"
   ]
  },
  {
   "cell_type": "code",
   "execution_count": 7,
   "id": "7d306536",
   "metadata": {},
   "outputs": [],
   "source": [
    "import numpy as np\n",
    "from scipy import stats\n",
    "from scipy.stats import norm"
   ]
  },
  {
   "cell_type": "code",
   "execution_count": 8,
   "id": "37689c4b",
   "metadata": {},
   "outputs": [
    {
     "name": "stdout",
     "output_type": "stream",
     "text": [
      "Mean Profit is Rs 540 Million\n"
     ]
    }
   ],
   "source": [
    "# Mean profits from two different divisions of a company = Mean1 + Mean2\n",
    "Mean = 5+7\n",
    "print('Mean Profit is Rs', Mean*45,'Million')"
   ]
  },
  {
   "cell_type": "code",
   "execution_count": 9,
   "id": "9c35c953",
   "metadata": {},
   "outputs": [
    {
     "name": "stdout",
     "output_type": "stream",
     "text": [
      "Standard Deviation is Rs 225.0 Million\n"
     ]
    }
   ],
   "source": [
    "# Variance of profits from two different divisions of a company = SD^2 = SD1^2 + SD2^2\n",
    "SD = np.sqrt((9)+(16))\n",
    "print('Standard Deviation is Rs', SD*45, 'Million')"
   ]
  },
  {
   "cell_type": "code",
   "execution_count": 10,
   "id": "af55d77a",
   "metadata": {},
   "outputs": [
    {
     "name": "stdout",
     "output_type": "stream",
     "text": [
      "Range is Rs (99.00810347848784, 980.9918965215122) in Millions\n"
     ]
    }
   ],
   "source": [
    "# A. Specify a Rupee range (centered on the mean) such that it contains 95% probability for the annual profit of the company.\n",
    "print('Range is Rs',(stats.norm.interval(0.95,540,225)),'in Millions')"
   ]
  },
  {
   "cell_type": "code",
   "execution_count": 11,
   "id": "1888bce7",
   "metadata": {},
   "outputs": [
    {
     "name": "stdout",
     "output_type": "stream",
     "text": [
      "5th percentile of profit (in Million Rupees) is 170.0\n"
     ]
    }
   ],
   "source": [
    "# B. Specify the 5th percentile of profit (in Rupees) for the company\n",
    "# To compute 5th Percentile, we use the formula X=μ + Zσ; wherein from z table, 5 percentile = -1.645\n",
    "X= 540+(-1.645)*(225)\n",
    "print('5th percentile of profit (in Million Rupees) is',np.round(X,))"
   ]
  },
  {
   "cell_type": "code",
   "execution_count": 12,
   "id": "d381378a",
   "metadata": {},
   "outputs": [
    {
     "data": {
      "text/plain": [
       "0.0477903522728147"
      ]
     },
     "execution_count": 12,
     "metadata": {},
     "output_type": "execute_result"
    }
   ],
   "source": [
    "# C. Which of the two divisions has a larger probability of making a loss in a given year?\n",
    "\n",
    "# Probability of Division 1 making a loss P(X<0)\n",
    "stats.norm.cdf(0,5,3)"
   ]
  },
  {
   "cell_type": "code",
   "execution_count": 13,
   "id": "56e3e042",
   "metadata": {},
   "outputs": [
    {
     "data": {
      "text/plain": [
       "0.040059156863817086"
      ]
     },
     "execution_count": 13,
     "metadata": {},
     "output_type": "execute_result"
    }
   ],
   "source": [
    "# Probability of Division 2 making a loss P(X<0)\n",
    "stats.norm.cdf(0,7,4)"
   ]
  },
  {
   "attachments": {},
   "cell_type": "markdown",
   "id": "8b74eec9",
   "metadata": {},
   "source": [
    "# Basic stats - Level 2 - Set 3 questions and answers\n",
    "\n",
    "Question No. 4\n",
    "What are the chances that Xbar>u?"
   ]
  },
  {
   "cell_type": "code",
   "execution_count": 11,
   "id": "420804ca",
   "metadata": {},
   "outputs": [
    {
     "data": {
      "text/plain": [
       "0.5"
      ]
     },
     "execution_count": 11,
     "metadata": {},
     "output_type": "execute_result"
    }
   ],
   "source": [
    "# this is P(Z>0)\n",
    "from scipy import stats\n",
    "stats.norm.cdf(0)"
   ]
  },
  {
   "cell_type": "markdown",
   "id": "2f150318",
   "metadata": {},
   "source": [
    "Question No. 5\n",
    "In January 2005, a company that monitors Internet traffic (WebSideStory) reported that its sampling revealed that the Mozilla Firefox browser launched in 2004 had grabbed a 4.6% share of the market. I. If the sample were based on 2,000 users, could Microsoft conclude that Mozilla has a less than 5% share of the market? II. WebSideStory claims that its sample includes all the daily Internet users. If that’s the case, then can Microsoft conclude that Mozilla has a less than 5% share of the market?"
   ]
  },
  {
   "cell_type": "code",
   "execution_count": 12,
   "id": "5de2d982",
   "metadata": {},
   "outputs": [
    {
     "data": {
      "text/plain": [
       "0.6554003727810325"
      ]
     },
     "execution_count": 12,
     "metadata": {},
     "output_type": "execute_result"
    }
   ],
   "source": [
    "#here u= 4.6 in first we have to find that P(Z<5) n=2000 and assume sigma=1 (it follows t distribution)\n",
    "stats.t.cdf(5,1999,loc=4.6)"
   ]
  },
  {
   "cell_type": "code",
   "execution_count": null,
   "id": "258fa4bf",
   "metadata": {},
   "outputs": [],
   "source": [
    "# so P(Z<5) is 65.54% so we can say that microsoft can conclude that mozilla has less than 5% share of market"
   ]
  },
  {
   "cell_type": "code",
   "execution_count": 13,
   "id": "2b17ff3e",
   "metadata": {},
   "outputs": [
    {
     "data": {
      "text/plain": [
       "0.6554217416103243"
      ]
     },
     "execution_count": 13,
     "metadata": {},
     "output_type": "execute_result"
    }
   ],
   "source": [
    "# here u= 4.6 in second we have to find that P(Z<5) and assume sigma=1 (It follows normal distribution)\n",
    "stats.norm.cdf(5,loc=4.6)"
   ]
  },
  {
   "cell_type": "code",
   "execution_count": null,
   "id": "0830c845",
   "metadata": {},
   "outputs": [],
   "source": [
    "# so P(Z<5) is 65.54% so we can say that microsoft can conclude that mozilla has less than 5% share of market"
   ]
  },
  {
   "cell_type": "markdown",
   "id": "efe79a46",
   "metadata": {},
   "source": [
    "Question No. 7\n",
    "Which is shorter: a 95% z-interval or a 95% t-interval for μ if we know that σ =s?"
   ]
  },
  {
   "cell_type": "code",
   "execution_count": 14,
   "id": "5dc8217c",
   "metadata": {},
   "outputs": [
    {
     "data": {
      "text/plain": [
       "(-1.959963984540054, 1.959963984540054)"
      ]
     },
     "execution_count": 14,
     "metadata": {},
     "output_type": "execute_result"
    }
   ],
   "source": [
    "stats.norm.interval(0.95)"
   ]
  },
  {
   "cell_type": "code",
   "execution_count": 15,
   "id": "7cf50948",
   "metadata": {},
   "outputs": [
    {
     "data": {
      "text/plain": [
       "(-2.2281388519649385, 2.2281388519649385)"
      ]
     },
     "execution_count": 15,
     "metadata": {},
     "output_type": "execute_result"
    }
   ],
   "source": [
    "stats.t.interval(0.95,10)"
   ]
  },
  {
   "cell_type": "code",
   "execution_count": null,
   "id": "dbda87d1",
   "metadata": {},
   "outputs": [],
   "source": [
    "#the z interval is shorter if we have samples less than 30 and interval start increasing and becomes equal for both the distributions for the larger samples."
   ]
  },
  {
   "cell_type": "markdown",
   "id": "017c3685",
   "metadata": {},
   "source": [
    "Question No. 8\n",
    "How many randomly selected employers (minimum number) must we contact in order to guarantee a margin of error of no more than 4% (at 95% confidence)?"
   ]
  },
  {
   "cell_type": "code",
   "execution_count": 16,
   "id": "9e6058a4",
   "metadata": {},
   "outputs": [
    {
     "data": {
      "text/plain": [
       "(-1.959963984540054, 1.959963984540054)"
      ]
     },
     "execution_count": 16,
     "metadata": {},
     "output_type": "execute_result"
    }
   ],
   "source": [
    "stats.norm.interval(0.95)"
   ]
  },
  {
   "cell_type": "code",
   "execution_count": 17,
   "id": "1a67693e",
   "metadata": {},
   "outputs": [
    {
     "data": {
      "text/plain": [
       "(-2.3263478740408408, 2.3263478740408408)"
      ]
     },
     "execution_count": 17,
     "metadata": {},
     "output_type": "execute_result"
    }
   ],
   "source": [
    "stats.norm.interval(0.98)"
   ]
  },
  {
   "cell_type": "code",
   "execution_count": null,
   "id": "4de19193",
   "metadata": {},
   "outputs": [],
   "source": []
  },
  {
   "cell_type": "markdown",
   "id": "6acd0328",
   "metadata": {},
   "source": [
    "# Basic stats - Level 2 - Set 4 questions and answers\n",
    "\n",
    "Question No. 3\n",
    "Auditors at a small community bank randomly sample 100 withdrawal transactions made during the week at an ATM machine located near the bank’s main branch. Over the past 2 years, the average withdrawal amount has been DOLLAR 50 with a standard deviation of DOLLAR 40. Since audit investigations are typically expensive, the auditors decide to not initiate further investigations if the mean transaction amount of the sample is between DOLLAR 45 and DOLLAR 55. What is the probability that in any given week, there will be an investigation?"
   ]
  },
  {
   "cell_type": "code",
   "execution_count": 18,
   "id": "c0170da8",
   "metadata": {},
   "outputs": [
    {
     "data": {
      "text/plain": [
       "0.2112995473337107"
      ]
     },
     "execution_count": 18,
     "metadata": {},
     "output_type": "execute_result"
    }
   ],
   "source": [
    "#here n=100, u=50, sigma= 40 here we have to find 1-P(45<u<55)\n",
    "1-(stats.norm.cdf(55,loc=50,scale=40/100**0.5)-stats.norm.cdf(45,loc=50,scale=40/100**0.5))"
   ]
  },
  {
   "cell_type": "code",
   "execution_count": 19,
   "id": "c04d2851",
   "metadata": {},
   "outputs": [
    {
     "data": {
      "text/plain": [
       "0.2142463375683865"
      ]
     },
     "execution_count": 19,
     "metadata": {},
     "output_type": "execute_result"
    }
   ],
   "source": [
    "#we have to find u less than 45 and u greater than 55\n",
    "1-stats.t.cdf(55,99,loc=50,scale=40/100**0.5)+stats.t.cdf(45,99,loc=50,scale=40/100**0.5)"
   ]
  },
  {
   "cell_type": "code",
   "execution_count": null,
   "id": "eab5f736",
   "metadata": {},
   "outputs": [],
   "source": [
    "# so there is 21.42% probability that there will be investigation in any given week"
   ]
  },
  {
   "cell_type": "markdown",
   "id": "b8c7422b",
   "metadata": {},
   "source": [
    "Question No. 4\n",
    "The auditors from the above example would like to maintain the probability of investigation to 5%. Which of the following represents the minimum number transactions that they should sample if they do not want to change the thresholds of 45 and 55? Assume that the sample statistics remain unchanged."
   ]
  },
  {
   "cell_type": "code",
   "execution_count": 20,
   "id": "6e90f192",
   "metadata": {},
   "outputs": [
    {
     "data": {
      "text/plain": [
       "(42.16014406183979, 57.83985593816021)"
      ]
     },
     "execution_count": 20,
     "metadata": {},
     "output_type": "execute_result"
    }
   ],
   "source": [
    "stats.norm.interval(0.95,loc=50,scale=40/100**0.5)"
   ]
  },
  {
   "cell_type": "code",
   "execution_count": 21,
   "id": "ea50e8ed",
   "metadata": {},
   "outputs": [
    {
     "data": {
      "text/plain": [
       "(43.411026006941775, 56.588973993058225)"
      ]
     },
     "execution_count": 21,
     "metadata": {},
     "output_type": "execute_result"
    }
   ],
   "source": [
    "stats.t.interval(0.95,143,loc=50,scale=40/144**0.5)"
   ]
  },
  {
   "cell_type": "code",
   "execution_count": 22,
   "id": "16d67032",
   "metadata": {},
   "outputs": [
    {
     "data": {
      "text/plain": [
       "(43.54636798622735, 56.45363201377265)"
      ]
     },
     "execution_count": 22,
     "metadata": {},
     "output_type": "execute_result"
    }
   ],
   "source": [
    "stats.t.interval(0.95,149,loc=50,scale=40/150**0.5)"
   ]
  },
  {
   "cell_type": "code",
   "execution_count": 23,
   "id": "2f555e29",
   "metadata": {},
   "outputs": [
    {
     "data": {
      "text/plain": [
       "(44.36513128209762, 55.63486871790238)"
      ]
     },
     "execution_count": 23,
     "metadata": {},
     "output_type": "execute_result"
    }
   ],
   "source": [
    "stats.t.interval(0.95,195,loc=50,scale=40/196**0.5)"
   ]
  },
  {
   "cell_type": "code",
   "execution_count": 24,
   "id": "6e2c09aa",
   "metadata": {},
   "outputs": [
    {
     "data": {
      "text/plain": [
       "(45.01742205006828, 54.98257794993172)"
      ]
     },
     "execution_count": 24,
     "metadata": {},
     "output_type": "execute_result"
    }
   ],
   "source": [
    "stats.t.interval(0.95,249,loc=50,scale=40/250**0.5)"
   ]
  },
  {
   "cell_type": "code",
   "execution_count": null,
   "id": "450da64b",
   "metadata": {},
   "outputs": [],
   "source": [
    "# So minimum number of transaction needed are 250 as it will ensure that there is 95% probability that u lies in range of 45 to 55 or 5% chance of investigation"
   ]
  },
  {
   "cell_type": "code",
   "execution_count": 25,
   "id": "da50ae29",
   "metadata": {},
   "outputs": [
    {
     "data": {
      "text/plain": [
       "0.9507896016013059"
      ]
     },
     "execution_count": 25,
     "metadata": {},
     "output_type": "execute_result"
    }
   ],
   "source": [
    "stats.t.cdf(55,249,loc=50,scale=40/250**0.5)-stats.t.cdf(45,249,loc=50,scale=40/250**0.5)"
   ]
  },
  {
   "cell_type": "code",
   "execution_count": null,
   "id": "51d18a93",
   "metadata": {},
   "outputs": [],
   "source": []
  }
 ],
 "metadata": {
  "kernelspec": {
   "display_name": "Python 3 (ipykernel)",
   "language": "python",
   "name": "python3"
  },
  "language_info": {
   "codemirror_mode": {
    "name": "ipython",
    "version": 3
   },
   "file_extension": ".py",
   "mimetype": "text/x-python",
   "name": "python",
   "nbconvert_exporter": "python",
   "pygments_lexer": "ipython3",
   "version": "3.9.7"
  }
 },
 "nbformat": 4,
 "nbformat_minor": 5
}
